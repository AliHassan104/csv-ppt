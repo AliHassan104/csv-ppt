{
 "cells": [
  {
   "cell_type": "code",
   "execution_count": 4,
   "id": "60782ec4",
   "metadata": {},
   "outputs": [
    {
     "name": "stdout",
     "output_type": "stream",
     "text": [
      "Presentation saved as marks_presentation.pptx\n"
     ]
    }
   ],
   "source": [
    "import pandas as pd\n",
    "import matplotlib.pyplot as plt\n",
    "from pptx import Presentation\n",
    "from pptx.util import Inches\n",
    "\n",
    "# Step 1: Read the Excel file\n",
    "file_path = 'student_marks.csv'  # Replace with your Excel file path\n",
    "df = pd.read_csv(file_path)\n",
    "\n",
    "# Assume the Excel file has columns: 'Student', 'Subject', 'Marks'\n",
    "# Filter the marks for a specific subject\n",
    "subject = \"Math\"  # Change to your subject\n",
    "subject_marks = df[df['Subject'] == subject]['Marks']\n",
    "\n",
    "# Step 2: Calculate distribution of marks\n",
    "mark_bins = [0, 50, 60, 70, 80, 90, 100]  # You can adjust the bins as needed\n",
    "labels = ['0-50', '51-60', '61-70', '71-80', '81-90', '91-100']\n",
    "mark_distribution = pd.cut(subject_marks, bins=mark_bins, labels=labels).value_counts(sort=False)\n",
    "\n",
    "# Step 3: Create a pie chart\n",
    "plt.figure(figsize=(6, 6))\n",
    "plt.pie(mark_distribution, labels=labels, autopct='%1.1f%%', startangle=90)\n",
    "plt.title(f\"Marks Distribution in {subject}\")\n",
    "plt.axis('equal')  # Equal aspect ratio ensures the pie chart is a circle.\n",
    "\n",
    "# Save the pie chart as an image\n",
    "chart_path = 'marks_pie_chart.png'\n",
    "plt.savefig(chart_path)\n",
    "plt.close()\n",
    "\n",
    "# Step 4: Create a PowerPoint presentation\n",
    "prs = Presentation()\n",
    "\n",
    "# Add a title slide\n",
    "slide_layout = prs.slide_layouts[0]  # Title slide layout\n",
    "slide = prs.slides.add_slide(slide_layout)\n",
    "title = slide.shapes.title\n",
    "title.text = f\"Marks Distribution in {subject}\"\n",
    "\n",
    "# Add a slide with the pie chart\n",
    "slide_layout = prs.slide_layouts[5]  # Blank slide layout\n",
    "slide = prs.slides.add_slide(slide_layout)\n",
    "\n",
    "# Add the pie chart image to the slide\n",
    "slide.shapes.add_picture(chart_path, Inches(2), Inches(1), width=Inches(6), height=Inches(4))\n",
    "\n",
    "# Save the PowerPoint presentation\n",
    "pptx_path = 'marks_presentation.pptx'\n",
    "prs.save(pptx_path)\n",
    "\n",
    "print(f\"Presentation saved as {pptx_path}\")\n"
   ]
  },
  {
   "cell_type": "code",
   "execution_count": null,
   "id": "8286dd3c",
   "metadata": {},
   "outputs": [],
   "source": []
  }
 ],
 "metadata": {
  "kernelspec": {
   "display_name": "Python 3 (ipykernel)",
   "language": "python",
   "name": "python3"
  },
  "language_info": {
   "codemirror_mode": {
    "name": "ipython",
    "version": 3
   },
   "file_extension": ".py",
   "mimetype": "text/x-python",
   "name": "python",
   "nbconvert_exporter": "python",
   "pygments_lexer": "ipython3",
   "version": "3.11.5"
  }
 },
 "nbformat": 4,
 "nbformat_minor": 5
}
